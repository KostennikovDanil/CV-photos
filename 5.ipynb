{
 "cells": [
  {
   "cell_type": "markdown",
   "metadata": {},
   "source": [
    "# Задание №1"
   ]
  },
  {
   "cell_type": "markdown",
   "metadata": {},
   "source": [
    "Возьмем модель Stable Diffusion, способ доступа: https://stablediffusionweb.com/#ai-image-generator.\n",
    "\n",
    "Рассмотрим критерий оценки для генерации текста на изображении.\n",
    "Исследуем его следующими типами промптов:\n",
    "* промпты с маленьким количеством текста для генерации\n",
    "* промпты с большим количеством текста для генерации\n",
    "* разные типы объектов на которых находится текст\n",
    "* промпты с заданым текстом\n",
    "* промпты без заданного текста\n",
    "\n",
    "Конкретные промпты:\n",
    "* text 'Hello world' on paper\n",
    "* text \"Hello world\" on advertising screen\n",
    "* text \"I love ITMO idk what else to say\" on paper\n",
    "* text \"Try to praise the mutilated world. Remember June's long days, and wild strawberries, drops of rosé wine. The nettles that methodically overgrow the abandoned homesteads of exiles. You must praise the mutilated world. You watched the stylish yachts and ships; one of them had a long trip...\" on book paper\n",
    "* only following text \"Try to praise the mutilated world. Remember June's long days, and wild strawberries, drops of rosé wine. The nettles that methodically overgrow the abandoned homesteads of exiles. You must praise the mutilated world. You watched the stylish yachts and ships; one of them had a long trip...\" written on a book paper without any pictures\n",
    "* paper with random quote\n",
    "* advertising screen with motivational phrase\n",
    "\n"
   ]
  },
  {
   "cell_type": "markdown",
   "metadata": {},
   "source": [
    "## результаты оценки\n",
    "* модель не плохо справляется с небольшим заданным текстом (два слова)\n",
    "* модель плохо справляется с большим заданным текстом\n",
    "* модель плохо справляется с генерацией рандомного текста. Текст генерируется, но он не читаем и не имет никакого смысла\n",
    "* модель хорошо справляется с генерацией текста на различных объектах, но сам текст оставляет желать лучшего"
   ]
  },
  {
   "cell_type": "markdown",
   "metadata": {},
   "source": [
    "## Маленький заданный текст"
   ]
  },
  {
   "cell_type": "markdown",
   "metadata": {},
   "source": [
    "### text 'Hello world' on paper"
   ]
  },
  {
   "cell_type": "markdown",
   "metadata": {},
   "source": [
    "![](image.png)"
   ]
  },
  {
   "cell_type": "markdown",
   "metadata": {},
   "source": [
    "### text \"Hello world\" on advertising screen"
   ]
  },
  {
   "cell_type": "markdown",
   "metadata": {},
   "source": [
    "![](image2.png)"
   ]
  },
  {
   "cell_type": "markdown",
   "metadata": {},
   "source": [
    "### text \"I love ITMO idk what else to say\" on paper"
   ]
  },
  {
   "cell_type": "markdown",
   "metadata": {},
   "source": [
    "![](image8.png)"
   ]
  },
  {
   "cell_type": "markdown",
   "metadata": {},
   "source": [
    "## Большой заданный текст"
   ]
  },
  {
   "cell_type": "markdown",
   "metadata": {},
   "source": [
    "### text \"Try to praise the mutilated world. Remember June's long days, and wild strawberries, drops of rosé wine. The nettles that methodically overgrow the abandoned homesteads of exiles. You must praise the mutilated world. You watched the stylish yachts and ships; one of them had a long trip...\" on book paper"
   ]
  },
  {
   "cell_type": "markdown",
   "metadata": {},
   "source": [
    "![](image3.png)"
   ]
  },
  {
   "cell_type": "markdown",
   "metadata": {},
   "source": [
    "### only following text \"Try to praise the mutilated world. Remember June's long days, and wild strawberries, drops of rosé wine. The nettles that methodically overgrow the abandoned homesteads of exiles. You must praise the mutilated world. You watched the stylish yachts and ships; one of them had a long trip...\" written on a book paper without any pictures"
   ]
  },
  {
   "cell_type": "markdown",
   "metadata": {},
   "source": [
    "![](image4.png)"
   ]
  },
  {
   "cell_type": "markdown",
   "metadata": {},
   "source": [
    "## Рандомный текст"
   ]
  },
  {
   "cell_type": "markdown",
   "metadata": {},
   "source": [
    "### paper with random quote"
   ]
  },
  {
   "cell_type": "markdown",
   "metadata": {},
   "source": [
    "![](image5.png)"
   ]
  },
  {
   "cell_type": "markdown",
   "metadata": {},
   "source": [
    "### advertising screen with motivational phrase "
   ]
  },
  {
   "cell_type": "markdown",
   "metadata": {},
   "source": [
    "![](image6.png)"
   ]
  },
  {
   "cell_type": "markdown",
   "metadata": {},
   "source": [
    "### advertising screen with two words phrase "
   ]
  },
  {
   "cell_type": "markdown",
   "metadata": {},
   "source": [
    "![](image7.png)"
   ]
  },
  {
   "cell_type": "markdown",
   "metadata": {},
   "source": [
    "# Задание № 2"
   ]
  },
  {
   "cell_type": "markdown",
   "metadata": {},
   "source": [
    "Возьмем модель Stable Diffusion, способ доступа: https://stablediffusionweb.com/#ai-image-generator.\n",
    "Критерий оценки: пассажирские самолеты\n",
    "\n",
    "Исследуем его следующими типами промптов:\n",
    "* двухпалубные самолеты\n",
    "* однопалубные (обычные) самолеты\n",
    "* кукурузники\n",
    "* разные типы самолетов (двухпалубные самолеты и однопалубные).\n",
    "\n",
    "Конкретные промпты:\n",
    "* Boeing 747\n",
    "* airbus a380\n",
    "* Boeing 737\n",
    "* airbus a320\n",
    "* plane maize\n",
    "* an-2 plane"
   ]
  },
  {
   "cell_type": "markdown",
   "metadata": {},
   "source": [
    "## результаты оценки\n",
    "* модель плохо справляется с генерацией конкретно заданных типов самолетов"
   ]
  },
  {
   "cell_type": "markdown",
   "metadata": {},
   "source": [
    "## двухпалубные самолеты"
   ]
  },
  {
   "cell_type": "markdown",
   "metadata": {},
   "source": [
    "### Boeing 747"
   ]
  },
  {
   "cell_type": "markdown",
   "metadata": {},
   "source": [
    "![](image10.png)"
   ]
  },
  {
   "cell_type": "markdown",
   "metadata": {},
   "source": [
    "### airbus a380"
   ]
  },
  {
   "cell_type": "markdown",
   "metadata": {},
   "source": [
    "![](image11.png)"
   ]
  },
  {
   "cell_type": "markdown",
   "metadata": {},
   "source": [
    "## обычные самолеты"
   ]
  },
  {
   "cell_type": "markdown",
   "metadata": {},
   "source": [
    "### Boeing 737"
   ]
  },
  {
   "cell_type": "markdown",
   "metadata": {},
   "source": [
    "![](image9.png)"
   ]
  },
  {
   "cell_type": "markdown",
   "metadata": {},
   "source": [
    "### airbus a320"
   ]
  },
  {
   "cell_type": "markdown",
   "metadata": {},
   "source": [
    "![](image12.png)"
   ]
  },
  {
   "cell_type": "markdown",
   "metadata": {},
   "source": [
    "## кукурузники"
   ]
  },
  {
   "cell_type": "markdown",
   "metadata": {},
   "source": [
    "### plane maize"
   ]
  },
  {
   "cell_type": "markdown",
   "metadata": {},
   "source": [
    "![](image13.png)"
   ]
  },
  {
   "cell_type": "markdown",
   "metadata": {},
   "source": [
    "### an-2 plane"
   ]
  },
  {
   "cell_type": "markdown",
   "metadata": {},
   "source": [
    "![](image14.png)"
   ]
  }
 ],
 "metadata": {
  "language_info": {
   "name": "python"
  }
 },
 "nbformat": 4,
 "nbformat_minor": 2
}
